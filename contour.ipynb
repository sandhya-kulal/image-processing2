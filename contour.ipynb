{
 "cells": [
  {
   "cell_type": "code",
   "execution_count": 3,
   "id": "9a3649bd",
   "metadata": {},
   "outputs": [
    {
     "name": "stdout",
     "output_type": "stream",
     "text": [
      "Number of Contours: 235\n"
     ]
    }
   ],
   "source": [
    "import cv2 \n",
    "import numpy as np \n",
    "\n",
    "image = cv2.imread('butterfly.png')\n",
    "gray = cv2.cvtColor(image, cv2.COLOR_BGR2GRAY) \n",
    "\n",
    "edged = cv2.Canny(gray, 30, 200) \n",
    "cv2.waitKey(0) \n",
    "contours, hierarchy = cv2.findContours(edged, cv2.RETR_TREE, cv2.CHAIN_APPROX_SIMPLE)  \n",
    "cv2.imshow('Canny Edges After Contouring', edged)\n",
    "cv2.imwrite('CannyFish.jpg', edged)  \n",
    "cv2.waitKey(0) \n",
    "\n",
    "print(\"Number of Contours: \" + str(len(contours))) \n",
    "  \n",
    "cv2.drawContours(image, contours, -1, (0, 255, 0), 3) \n",
    "  \n",
    "cv2.imshow('Contours', image)\n",
    "cv2.imwrite('Contours.jpg', image) \n",
    "cv2.waitKey(0) \n",
    "\n",
    "image2 = cv2.imread('butterfly.png')\n",
    "if len(contours) != 0:\n",
    "\tc = max(contours, key = cv2.contourArea)\n",
    "cv2.drawContours(image2, c, -1, (0, 255, 0), 3)\n",
    "cv2.imshow('earth.jpg', image2)\n",
    "cv2.imwrite('LargestContour.jpg', image2) \n",
    "cv2.waitKey(0) \n",
    "\n",
    "cv2.destroyAllWindows() "
   ]
  },
  {
   "cell_type": "code",
   "execution_count": null,
   "id": "2dd1e710",
   "metadata": {},
   "outputs": [],
   "source": []
  }
 ],
 "metadata": {
  "kernelspec": {
   "display_name": "Python 3 (ipykernel)",
   "language": "python",
   "name": "python3"
  },
  "language_info": {
   "codemirror_mode": {
    "name": "ipython",
    "version": 3
   },
   "file_extension": ".py",
   "mimetype": "text/x-python",
   "name": "python",
   "nbconvert_exporter": "python",
   "pygments_lexer": "ipython3",
   "version": "3.9.7"
  }
 },
 "nbformat": 4,
 "nbformat_minor": 5
}
