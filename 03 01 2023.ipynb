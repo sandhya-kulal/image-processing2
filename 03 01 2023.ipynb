{
 "cells": [
  {
   "cell_type": "code",
   "execution_count": 9,
   "id": "2712bb22",
   "metadata": {},
   "outputs": [],
   "source": [
    "import cv2\n",
    "import numpy as np\n",
    "from skimage import io \n",
    "frame = cv2.cvtColor(io.imread('crop.png'), cv2.COLOR_RGB2BGR)\n",
    "image = cv2.cvtColor(io.imread('22.jpg'), cv2.COLOR_RGB2BGR)\n",
    "mask = 255 * np.uint8(np.all(frame == [36, 28, 237], axis=2))\n",
    "contours, _ = cv2.findContours(mask, cv2.RETR_LIST, cv2.CHAIN_APPROX_SIMPLE)\n",
    "cnt = min(contours, key=cv2.contourArea)\n",
    "(x, y, w, h) = cv2.boundingRect(cnt)\n",
    "frame[y:y+h, x:x+w] = cv2.resize(image, (w, h))\n",
    "\n",
    "\n",
    "cv2.imshow('frame', frame)\n",
    "cv2.waitKey(0)\n",
    "cv2.destroyAllWindows()"
   ]
  },
  {
   "cell_type": "code",
   "execution_count": 10,
   "id": "4d8b9f92",
   "metadata": {},
   "outputs": [
    {
     "ename": "ModuleNotFoundError",
     "evalue": "No module named 'keras_ocr'",
     "output_type": "error",
     "traceback": [
      "\u001b[1;31m---------------------------------------------------------------------------\u001b[0m",
      "\u001b[1;31mModuleNotFoundError\u001b[0m                       Traceback (most recent call last)",
      "\u001b[1;32m~\\AppData\\Local\\Temp/ipykernel_11960/3523291995.py\u001b[0m in \u001b[0;36m<module>\u001b[1;34m\u001b[0m\n\u001b[0;32m      1\u001b[0m \u001b[1;32mimport\u001b[0m \u001b[0mmatplotlib\u001b[0m\u001b[1;33m.\u001b[0m\u001b[0mpyplot\u001b[0m \u001b[1;32mas\u001b[0m \u001b[0mplt\u001b[0m\u001b[1;33m\u001b[0m\u001b[1;33m\u001b[0m\u001b[0m\n\u001b[1;32m----> 2\u001b[1;33m \u001b[1;32mimport\u001b[0m \u001b[0mkeras_ocr\u001b[0m\u001b[1;33m\u001b[0m\u001b[1;33m\u001b[0m\u001b[0m\n\u001b[0m\u001b[0;32m      3\u001b[0m \u001b[0mpipeline\u001b[0m \u001b[1;33m=\u001b[0m \u001b[0mkeras_ocr\u001b[0m\u001b[1;33m.\u001b[0m\u001b[0mpipeline\u001b[0m\u001b[1;33m.\u001b[0m\u001b[0mPipeline\u001b[0m\u001b[1;33m(\u001b[0m\u001b[1;33m)\u001b[0m\u001b[1;33m\u001b[0m\u001b[1;33m\u001b[0m\u001b[0m\n\u001b[0;32m      4\u001b[0m \u001b[1;31m#read image from the an image path (a jpg/png file or an image url)\u001b[0m\u001b[1;33m\u001b[0m\u001b[1;33m\u001b[0m\u001b[0m\n\u001b[0;32m      5\u001b[0m img = keras_ocr.tools.read(pic1.jpg\n",
      "\u001b[1;31mModuleNotFoundError\u001b[0m: No module named 'keras_ocr'"
     ]
    }
   ],
   "source": [
    "import matplotlib.pyplot as plt\n",
    "import keras_ocr\n",
    "pipeline = keras_ocr.pipeline.Pipeline()\n",
    "#read image from the an image path (a jpg/png file or an image url)\n",
    "img = keras_ocr.tools.read(pic1.jpg\n",
    "                          )\n",
    "# Prediction_groups is a list of (word, box) tuples\n",
    "prediction_groups = pipeline.recognize([img])\n",
    "#print image with annotation and boxes\n",
    "keras_ocr.tools.drawAnnotations(image=img, predictions=prediction_groups[0])"
   ]
  },
  {
   "cell_type": "code",
   "execution_count": 20,
   "id": "13fb5406",
   "metadata": {},
   "outputs": [
    {
     "data": {
      "text/plain": [
       "True"
      ]
     },
     "execution_count": 20,
     "metadata": {},
     "output_type": "execute_result"
    }
   ],
   "source": [
    "import cv2\n",
    "from PIL import Image\n",
    "img = cv2.imread(\"pic1.jpg\")\n",
    "img_rgb = cv2.cvtColor(img, cv2.COLOR_BGR2RGB)\n",
    "cv2.imwrite('vary.jpg',img_rgb)"
   ]
  },
  {
   "cell_type": "code",
   "execution_count": 66,
   "id": "f8d749eb",
   "metadata": {},
   "outputs": [
    {
     "ename": "error",
     "evalue": "OpenCV(4.5.5) :-1: error: (-5:Bad argument) in function 'cvtColor'\n> Overload resolution failed:\n>  - cvtColor() missing required argument 'code' (pos 2)\n>  - cvtColor() missing required argument 'code' (pos 2)\n",
     "output_type": "error",
     "traceback": [
      "\u001b[1;31m---------------------------------------------------------------------------\u001b[0m",
      "\u001b[1;31merror\u001b[0m                                     Traceback (most recent call last)",
      "\u001b[1;32m~\\AppData\\Local\\Temp/ipykernel_11960/4172175024.py\u001b[0m in \u001b[0;36m<module>\u001b[1;34m\u001b[0m\n\u001b[0;32m      6\u001b[0m \u001b[1;33m\u001b[0m\u001b[0m\n\u001b[0;32m      7\u001b[0m \u001b[1;31m# convert to gray\u001b[0m\u001b[1;33m\u001b[0m\u001b[1;33m\u001b[0m\u001b[0m\n\u001b[1;32m----> 8\u001b[1;33m \u001b[0mgray\u001b[0m \u001b[1;33m=\u001b[0m \u001b[0mcv2\u001b[0m\u001b[1;33m.\u001b[0m\u001b[0mcvtColor\u001b[0m\u001b[1;33m(\u001b[0m\u001b[0mimg\u001b[0m\u001b[1;33m)\u001b[0m\u001b[1;33m\u001b[0m\u001b[1;33m\u001b[0m\u001b[0m\n\u001b[0m\u001b[0;32m      9\u001b[0m \u001b[1;31m#gray = cv2.cvtColor(img, cv2.COLOR_ORIGIN )\u001b[0m\u001b[1;33m\u001b[0m\u001b[1;33m\u001b[0m\u001b[0m\n\u001b[0;32m     10\u001b[0m \u001b[1;31m# threshold and invert\u001b[0m\u001b[1;33m\u001b[0m\u001b[1;33m\u001b[0m\u001b[0m\n",
      "\u001b[1;31merror\u001b[0m: OpenCV(4.5.5) :-1: error: (-5:Bad argument) in function 'cvtColor'\n> Overload resolution failed:\n>  - cvtColor() missing required argument 'code' (pos 2)\n>  - cvtColor() missing required argument 'code' (pos 2)\n"
     ]
    }
   ],
   "source": [
    "import cv2\n",
    "import numpy as np\n",
    "\n",
    "# read input\n",
    "img = cv2.imread('7.jpg')\n",
    "\n",
    "# convert to gray\n",
    "gray = cv2.cvtColor(img)\n",
    "#gray = cv2.cvtColor(img, cv2.COLOR_ORIGIN )\n",
    "# threshold and invert\n",
    "thresh = cv2.threshold(gray, 155, 255, cv2.THRESH_BINARY)[1]\n",
    "\n",
    "# apply morphology close\n",
    "kernel = np.ones((3,3), np.uint8)\n",
    "thresh = cv2.morphologyEx(thresh, cv2.MORPH_DILATE, kernel)\n",
    "\n",
    "\n",
    "#mask = np.zeros_like(gray, dtype=np.uint8)\n",
    "#cntrs = cv2.findContours(thresh, cv2.RETR_EXTERNAL, cv2.CHAIN_APPROX_SIMPLE)\n",
    "#cntrs = cntrs[0] if len(cntrs) == 2 else cntrs[1]\n",
    "#for c in cntrs:\n",
    "   # area = cv2.contourArea(c)\n",
    "    #if area < 1000:\n",
    "        #cv2.drawContours(mask,[c],0,255,-1)\n",
    "\n",
    "# do inpainting\n",
    "#result1 = cv2.inpaint(img,mask,3,cv2.INPAINT_TELEA)\n",
    "#result2 = cv2.inpaint(img,mask,3,cv2.INPAINT_NS)\n",
    "\n",
    "\n",
    "cv2.imwrite('circle_text_threshold.png', thresh)\n",
    "#cv2.imwrite('circle_text_mask.png', mask)\n",
    "#cv2.imwrite('circle_text_inpainted_telea.png', result1)\n",
    "#cv2.imwrite('circle_text_inpainted_ns.png', result2)\n",
    "\n",
    "# show results\n",
    "cv2.imshow('thresh',thresh)\n",
    "#cv2.imshow('mask',mask)\n",
    "#cv2.imshow('result1',result1)\n",
    "#cv2.imshow('result2',result2)\n",
    "cv2.waitKey(0)\n",
    "cv2.destroyAllWindows()\n"
   ]
  },
  {
   "cell_type": "code",
   "execution_count": null,
   "id": "28a39a98",
   "metadata": {},
   "outputs": [],
   "source": []
  },
  {
   "cell_type": "code",
   "execution_count": null,
   "id": "38c91a34",
   "metadata": {},
   "outputs": [],
   "source": []
  }
 ],
 "metadata": {
  "kernelspec": {
   "display_name": "Python 3 (ipykernel)",
   "language": "python",
   "name": "python3"
  },
  "language_info": {
   "codemirror_mode": {
    "name": "ipython",
    "version": 3
   },
   "file_extension": ".py",
   "mimetype": "text/x-python",
   "name": "python",
   "nbconvert_exporter": "python",
   "pygments_lexer": "ipython3",
   "version": "3.9.7"
  }
 },
 "nbformat": 4,
 "nbformat_minor": 5
}
