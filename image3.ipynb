{
 "cells": [
  {
   "cell_type": "code",
   "execution_count": 9,
   "id": "8871fbe5",
   "metadata": {},
   "outputs": [],
   "source": [
    "#logical operation\n",
    "import cv2 as cv\n",
    "img1 = cv.imread('chintu.jpg')\n",
    "img2 = cv.imread('mintu.jpg')\n",
    "bitwise_AND = cv.bitwise_and(img1, img2)\n",
    "bitwise_OR = cv.bitwise_or(img1, img2)\n",
    "bitwise_NOT = cv.bitwise_not(img1)\n",
    "cv.imshow('img1',img1)\n",
    "cv.imshow('img2',img2)\n",
    "cv.imshow('AND',bitwise_AND)\n",
    "cv.imshow('OR',bitwise_OR)\n",
    "cv.imshow('NOT',bitwise_NOT)\n",
    "if cv.waitKey(0) & 0xff == 27: \n",
    "    cv.destroyAllWindows()"
   ]
  },
  {
   "cell_type": "code",
   "execution_count": 10,
   "id": "4973dfd3",
   "metadata": {},
   "outputs": [],
   "source": []
  },
  {
   "cell_type": "code",
   "execution_count": 30,
   "id": "caeedaae",
   "metadata": {},
   "outputs": [],
   "source": [
    "#median filtering \n",
    "import cv2\n",
    "import cv2\n",
    "import numpy as np\n",
    "\n",
    "img_noisy1=cv2.imread(\"22.jpg\",0)\n",
    "m,n=img_noisy1.shape\n",
    "img_new1=np.zeros([m,n])\n",
    "\n",
    "for i in range(1,m-1):\n",
    "    for j in range(1,n-1):\n",
    "        temp=[img_noisy1[i-1,j-1],img_noisy1[i-1,j],img_noisy1[i-1,j-1],img_noisy1[i-1,j+1],img_noisy1[i,j-1],img_noisy1[i,j],img_noisy1[i,j+1],img_noisy1[i+1,j-1],img_noisy1[i+1,j],img_noisy1[i+1,j+1]]\n",
    "        temp=sorted(temp)\n",
    "        img_new1[i,j]=temp[4]\n",
    "        img_new1=img_new1.astype(np.uint8)\n",
    "\n",
    "cv2.imshow(\"MEDIAN FILTERED IMAGE\",img_new1)\n",
    "cv2.waitKey(0)  \n",
    "cv2.destroyAllWindows()      "
   ]
  },
  {
   "cell_type": "code",
   "execution_count": 27,
   "id": "a3d15568",
   "metadata": {},
   "outputs": [],
   "source": [
    "#paste an image\n",
    "from PIL import Image, ImageDraw, ImageFilter\n",
    "im1 = Image.open('galaxy.jpg')\n",
    "im2 = Image.open('globe.jpg')\n",
    "mask = Image.new(\"L\", im2.size, 0)\n",
    "draw = ImageDraw.Draw(mask)\n",
    "draw.ellipse((200, 100, 640, 490), fill = 265)\n",
    "mask_blur = mask.filter(ImageFilter.GaussianBlur(10))\n",
    "back = im1.copy()\n",
    "back.paste(im2, (0,0), mask_blur)\n",
    "back.show()"
   ]
  },
  {
   "cell_type": "code",
   "execution_count": 31,
   "id": "bd4ead18",
   "metadata": {},
   "outputs": [],
   "source": [
    "#avg filtering\n",
    "\n",
    "import cv2\n",
    "import numpy as np\n",
    "img=cv2.imread(\"22.jpg\",0)\n",
    "m,n=img.shape\n",
    "mask=np.ones([3,3], dtype = int)\n",
    "mask = mask/9\n",
    "img_new = np.zeros([m, n])\n",
    "for i in range(1, m-1):\n",
    "    for j in range(1, n-1):\n",
    "        temp = img [i-1,j-1]*mask[0,0]+img[i-1,j]*mask[0,1]+img[i-1,j+1]*mask[0,2]+img[i,j-1]*mask[1,0]+img[i,j]*mask[1,1]+img[i,j+1]*mask[1,2]+img[i+1,j-1]*mask[2,0]+img[i+1,j]*mask[2,1]+img[i+1,j+1]*mask[2,2]\n",
    "        img_new[i,j] = temp\n",
    "        img_new = img_new.astype(np.uint8)\n",
    "cv2.imwrite('burred1.jpg', img_new)\n",
    "cv2.waitKey(0)\n",
    "cv2.destroyAllWindows()  "
   ]
  },
  {
   "cell_type": "code",
   "execution_count": null,
   "id": "b4c101ef",
   "metadata": {},
   "outputs": [],
   "source": []
  },
  {
   "cell_type": "code",
   "execution_count": null,
   "id": "f4e2f777",
   "metadata": {},
   "outputs": [],
   "source": []
  },
  {
   "cell_type": "code",
   "execution_count": null,
   "id": "611e91da",
   "metadata": {},
   "outputs": [],
   "source": []
  },
  {
   "cell_type": "code",
   "execution_count": 4,
   "id": "9af16539",
   "metadata": {},
   "outputs": [],
   "source": [
    "#Upsample\n",
    "import cv2\n",
    "\n",
    "image = cv2.imread('23.jpg')\n",
    "cv2.imshow(\"image before pyrup\", image)\n",
    "image = cv2.pyrUp(image)\n",
    "cv2.imshow('Upssample', image)\n",
    "cv2.waitKey(0)  \n",
    "cv2.destroyAllWindows()    "
   ]
  },
  {
   "cell_type": "code",
   "execution_count": 5,
   "id": "81801785",
   "metadata": {},
   "outputs": [],
   "source": [
    "#dowmsampling\n",
    "import cv2\n",
    "\n",
    "image = cv2.imread('23.jpg')\n",
    "cv2.imshow(\"image before pyrup\", image)\n",
    "image = cv2.pyrDown(image)\n",
    "cv2.imshow('Downsample', image)\n",
    "cv2.waitKey(0)  \n",
    "cv2.destroyAllWindows()    "
   ]
  },
  {
   "cell_type": "code",
   "execution_count": null,
   "id": "233fa8c4",
   "metadata": {},
   "outputs": [],
   "source": []
  }
 ],
 "metadata": {
  "kernelspec": {
   "display_name": "Python 3 (ipykernel)",
   "language": "python",
   "name": "python3"
  },
  "language_info": {
   "codemirror_mode": {
    "name": "ipython",
    "version": 3
   },
   "file_extension": ".py",
   "mimetype": "text/x-python",
   "name": "python",
   "nbconvert_exporter": "python",
   "pygments_lexer": "ipython3",
   "version": "3.9.7"
  }
 },
 "nbformat": 4,
 "nbformat_minor": 5
}
